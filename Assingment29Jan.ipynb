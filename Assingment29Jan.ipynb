{
 "cells": [
  {
   "cell_type": "code",
   "execution_count": 1,
   "id": "5ed73799-5ffb-4bc8-90d5-96c033ec7485",
   "metadata": {},
   "outputs": [
    {
     "data": {
      "text/plain": [
       "'Ans= Python programming Python programming language was developed by Guido van Rossum \\nin the late 1980s and was first released in 1991.ng language was developed by Guido van \\nRossum in the late 1980s and was first released in 1991.'"
      ]
     },
     "execution_count": 1,
     "metadata": {},
     "output_type": "execute_result"
    }
   ],
   "source": [
    "#Q 1.Who developed python programming language?\n",
    "\"\"\"Ans= Python programming Python programming language was developed by Guido van Rossum \n",
    "in the late 1980s and was first released in 1991.ng language was developed by Guido van \n",
    "Rossum in the late 1980s and was first released in 1991.\"\"\""
   ]
  },
  {
   "cell_type": "code",
   "execution_count": 2,
   "id": "859c83dc-dc11-43be-baed-9763aecc47d2",
   "metadata": {},
   "outputs": [
    {
     "data": {
      "text/plain": [
       "'Ans=Python supports multiple programming like object oriented and structural programming.fully \\nsupported, and many of their features support functional programming and aspect-oriented \\nprogramming (including met programming and met objects).'"
      ]
     },
     "execution_count": 2,
     "metadata": {},
     "output_type": "execute_result"
    }
   ],
   "source": [
    "#Q2.Which type of programming does python support?\n",
    "\"\"\"Ans=Python supports multiple programming like object oriented and structural programming.fully \n",
    "supported, and many of their features support functional programming and aspect-oriented \n",
    "programming (including met programming and met objects).\"\"\""
   ]
  },
  {
   "cell_type": "code",
   "execution_count": 4,
   "id": "bc75c5a6-a75a-4436-b68f-dd86b7ac356f",
   "metadata": {},
   "outputs": [],
   "source": [
    "#Q3.Is python case sensitive when dealing with identifiers?\n",
    "\"Ans=Yes, Python is case sensitive while dealing with identifiers e.g variable ,functions etc.\""
   ]
  },
  {
   "cell_type": "code",
   "execution_count": 5,
   "id": "a1206de7-033a-482d-b4d5-50debe5e5885",
   "metadata": {},
   "outputs": [
    {
     "data": {
      "text/plain": [
       "'Ans=’.py’ is the standard extension.'"
      ]
     },
     "execution_count": 5,
     "metadata": {},
     "output_type": "execute_result"
    }
   ],
   "source": [
    "#Q4.What is the correct extension of the python file?\n",
    "\"Ans=’.py’ is the standard extension.\"\n"
   ]
  },
  {
   "cell_type": "code",
   "execution_count": 6,
   "id": "14dc0266-bdd5-4c7a-8a27-60899f8d45d1",
   "metadata": {},
   "outputs": [
    {
     "data": {
      "text/plain": [
       "'Ans= Python code is interpreted, not compiled means the source code is executed line by line by the \\nPython interpreter, rather than being translated into machine code before being executed.'"
      ]
     },
     "execution_count": 6,
     "metadata": {},
     "output_type": "execute_result"
    }
   ],
   "source": [
    "#Q5.is python code compiled or interpreted?\n",
    "\"\"\"Ans= Python code is interpreted, not compiled means the source code is executed line by line by the \n",
    "Python interpreter, rather than being translated into machine code before being executed.\"\"\"\n"
   ]
  },
  {
   "cell_type": "code",
   "execution_count": 7,
   "id": "aa552cd8-8f0e-4c98-b87c-cd2dbb6e50ed",
   "metadata": {},
   "outputs": [
    {
     "data": {
      "text/plain": [
       "'Ans= In Python, blocks of code are defined using indentation\\nThere are example below as,\\nFunctions: defined using the def keyword, followed by the function name, parameters, and the code \\nblock.\\nLoops: defined using the for or while keywords, followed by the loop conditions, and the code block.\\nConditional statements: defined using the if keyword, followed by the condition and the code block.\\nClasses: defined using the class keyword, followed by the class name, and the code block'"
      ]
     },
     "execution_count": 7,
     "metadata": {},
     "output_type": "execute_result"
    }
   ],
   "source": [
    "# Q6.Name a few blocks of code used to define in python language?\n",
    "\"\"\"Ans= In Python, blocks of code are defined using indentation\n",
    "There are example below as,\n",
    "Functions: defined using the def keyword, followed by the function name, parameters, and the code \n",
    "block.\n",
    "Loops: defined using the for or while keywords, followed by the loop conditions, and the code block.\n",
    "Conditional statements: defined using the if keyword, followed by the condition and the code block.\n",
    "Classes: defined using the class keyword, followed by the class name, and the code block\"\"\""
   ]
  },
  {
   "cell_type": "code",
   "execution_count": 9,
   "id": "47e48ec5-e48d-47ea-a602-46208c09a83e",
   "metadata": {},
   "outputs": [
    {
     "data": {
      "text/plain": [
       "\"Ans='#'\""
      ]
     },
     "execution_count": 9,
     "metadata": {},
     "output_type": "execute_result"
    }
   ],
   "source": [
    "#Q7.State a character used to give single line comments in python?\n",
    "\"\"\"Ans='#'\"\"\""
   ]
  },
  {
   "cell_type": "code",
   "execution_count": 11,
   "id": "5d129a3b-3ba8-4ba3-8d2b-1bc1a9fbd1df",
   "metadata": {},
   "outputs": [
    {
     "data": {
      "text/plain": [
       "'Ans=1St have to import sys then use (print(sys.version)).'"
      ]
     },
     "execution_count": 11,
     "metadata": {},
     "output_type": "execute_result"
    }
   ],
   "source": [
    "#Q8.Mention functions which can help us to find the version of the python that we are currently working \n",
    "#   on?\n",
    "\"\"\"Ans=1St have to import sys then use (print(sys.version)).\"\"\""
   ]
  },
  {
   "cell_type": "code",
   "execution_count": 12,
   "id": "83d939b3-ceee-4ea6-b6b2-ffc80a6de1b9",
   "metadata": {},
   "outputs": [],
   "source": [
    "#Q9.python supports the creation of anonymous functions at runtime,using a construction called---\n",
    "\"\"\"Ans= python supports the creation of anonymous functions at runtime,using a construction called\n",
    "“Lambda Functoin”.\"\"\""
   ]
  },
  {
   "cell_type": "code",
   "execution_count": 13,
   "id": "a353d911-80a5-4343-864d-97aa8fed7874",
   "metadata": {},
   "outputs": [],
   "source": [
    "#Q10.What does pip stand for python?\n",
    "\"\"\"Ans=”Pip install package”.\"\"\""
   ]
  },
  {
   "cell_type": "code",
   "execution_count": 14,
   "id": "1d86ce6c-4445-4a03-88af-1347edc3b64f",
   "metadata": {},
   "outputs": [],
   "source": [
    "#Q11.Mention few built in functions in python?\n",
    "\"\"\"Ans= print(””),len(),type(),sort(),min(),max()\"\"\"\n"
   ]
  },
  {
   "cell_type": "code",
   "execution_count": 15,
   "id": "e0cfa69e-4505-4f58-9d18-e6e65c97678e",
   "metadata": {},
   "outputs": [],
   "source": [
    "#Q12.What is a mximum possible length of an identifier in python?\n",
    "\"\"\"Ans=There is no specific limit of range.\"\"\""
   ]
  },
  {
   "cell_type": "code",
   "execution_count": 16,
   "id": "8e35785c-75a4-4938-a6a4-977d3d904b9f",
   "metadata": {},
   "outputs": [],
   "source": [
    "#Q13.What is the benifitts of using python?\n",
    "\"\"\"Ans= Easy to learn and read: Python has a simple and straightforward syntax that makes it easy to \n",
    "learn and read, even for those with no prior programming experience.\n",
    "Versatile: Python is a multi-purpose language and can be used for a wide range of applications, such as \n",
    "web development, scientific computing, data analysis, machine learning, and more.\n",
    "Large community: Python has a large and active community of developers and users who continuously \n",
    "contribute to its development and provide support to others.\n",
    "Dynamic typing: Python supports dynamic typing, which means that the type of a variable can change at \n",
    "runtime, making it easier to write flexible and scalable code.\n",
    "Cross-platform: Python can run on a variety of platforms, including Windows, MacOS, and Linux, making \n",
    "it a great choice for cross-platform development.\"\"\""
   ]
  },
  {
   "cell_type": "code",
   "execution_count": 17,
   "id": "1c920e37-a9f5-4e97-86d4-4363e99e5d89",
   "metadata": {},
   "outputs": [],
   "source": [
    "#Q14.How is memory managed in python?\n",
    "\"\"\"Ans= memory management is performed automatically by the Python interpreter, using a memory \n",
    "manager known as the Python Memory Manager. This memory manager manages the memory used by \n",
    "Python objects and data structures, and provides a high-level, abstract interface for creating and \n",
    "destroying objects.\"\"\""
   ]
  },
  {
   "cell_type": "code",
   "execution_count": 18,
   "id": "f3ebbfd1-d716-4746-9659-6ab2ed6a6060",
   "metadata": {},
   "outputs": [],
   "source": [
    "#Q15.How to install python on windows and set path variables?\n",
    "\"\"\"Ans= Download the Python installation package from the official Python website \n",
    "(https://www.python.org/downloads/).\n",
    "Run the installation package and follow the instructions to complete the installation process.\n",
    "After the installation is complete, open the Start menu, search for \"Environment Variables\" and click on \n",
    "\"Edit the system environment variables\".\n",
    "In the System Properties window, click on the \"Environment Variables\" button.\n",
    "In the Environment Variables window, scroll down to the \"System variables\" section and find the \"Path\" \n",
    "variable.\n",
    "Click on the \"Edit\" button, and then click on the \"New\" button to add a new entry to the Path.\n",
    "Enter the path to the Python executable (e.g., C:\\Python38\\), and click \"OK\" to close all windows.\n",
    "Open the Command Prompt and type python to confirm that Python has been installed and the path \n",
    "has been set correctly.\"\"\"\n"
   ]
  },
  {
   "cell_type": "code",
   "execution_count": 19,
   "id": "0357fce0-b603-4e07-a0ec-0d9248cbcd54",
   "metadata": {},
   "outputs": [],
   "source": [
    "#Q16.Is indentation required in python?\n",
    "\"\"\"Ans= Yes, indentation is required in Python. Indentation is used to indicate the structure of the code and \n",
    "to delimit blocks of code, such as functions, loops, and conditional statements. In Python, blocks of code \n",
    "are defined by the level of indentation, rather than by brackets or other types of syntax\"\"\""
   ]
  }
 ],
 "metadata": {
  "kernelspec": {
   "display_name": "Python 3 (ipykernel)",
   "language": "python",
   "name": "python3"
  },
  "language_info": {
   "codemirror_mode": {
    "name": "ipython",
    "version": 3
   },
   "file_extension": ".py",
   "mimetype": "text/x-python",
   "name": "python",
   "nbconvert_exporter": "python",
   "pygments_lexer": "ipython3",
   "version": "3.10.8"
  }
 },
 "nbformat": 4,
 "nbformat_minor": 5
}
