{
 "cells": [
  {
   "cell_type": "code",
   "execution_count": null,
   "id": "ec9473f8-c621-4d5b-ab56-13b61b8c487d",
   "metadata": {},
   "outputs": [],
   "source": [
    "Q1. Which keyword is used to create a function? Create a function to return a list of odd numbers in the\n",
    "range of 1 to 25."
   ]
  },
  {
   "cell_type": "code",
   "execution_count": 35,
   "id": "c7d82920-a233-411c-bd56-f3ec6be2cdb4",
   "metadata": {},
   "outputs": [],
   "source": [
    "#To create a finction \"def\" keyword is used.\n",
    "\n",
    "l=list(range(1,26))\n",
    "def test1(l):\n",
    "    l1=[]\n",
    "    for i in l:\n",
    "        if i%2!=0:\n",
    "            l1.append(i) \n",
    "    return(l1)\n",
    "        "
   ]
  },
  {
   "cell_type": "code",
   "execution_count": 36,
   "id": "6221e1d9-ad0d-4ab7-bea7-73b76db383fa",
   "metadata": {},
   "outputs": [
    {
     "data": {
      "text/plain": [
       "[1, 3, 5, 7, 9, 11, 13, 15, 17, 19, 21, 23, 25]"
      ]
     },
     "execution_count": 36,
     "metadata": {},
     "output_type": "execute_result"
    }
   ],
   "source": [
    "test1(l)"
   ]
  },
  {
   "cell_type": "code",
   "execution_count": null,
   "id": "ce43b6f3-3c5a-4631-8f47-651c81703ef9",
   "metadata": {},
   "outputs": [],
   "source": [
    "\"\"\"Q2. Why *args and **kwargs is used in some functions? Create a function each for *args and **kwargs\n",
    "to demonstrate their use.\"\"\""
   ]
  },
  {
   "cell_type": "code",
   "execution_count": 39,
   "id": "c9ae76be-d88c-4ca2-9104-897ef681e9bc",
   "metadata": {},
   "outputs": [],
   "source": [
    "#Ans= *args is used in some function as a input takes from user and according to the input function will work.input have\n",
    "#     to provide as an arguments while calling function.*Args is used when we dont know how many arguments have to pass.\n",
    "def ar(*args):\n",
    "    return args\n",
    "    "
   ]
  },
  {
   "cell_type": "code",
   "execution_count": 40,
   "id": "4caaecac-c8f4-440b-afc6-28bd258aad3b",
   "metadata": {},
   "outputs": [
    {
     "data": {
      "text/plain": [
       "(1, 2, 3, 'string', 'allow', [1, 2, 3])"
      ]
     },
     "execution_count": 40,
     "metadata": {},
     "output_type": "execute_result"
    }
   ],
   "source": [
    "ar(1,2,3,\"string\",\"allow\",[1,2,3])"
   ]
  },
  {
   "cell_type": "code",
   "execution_count": 41,
   "id": "fca64efc-0f5e-4dc9-9fc4-a3458f851717",
   "metadata": {},
   "outputs": [],
   "source": [
    "# **kwargs is used to pass the key_worded element in function and **kwargs is used when we dont know how many argument\n",
    "#  going to pass in function,it will return output as a dictionary.\n",
    "def bb(**kwargs):\n",
    "    return(kwargs)"
   ]
  },
  {
   "cell_type": "code",
   "execution_count": 45,
   "id": "e7637a37-3367-4468-b149-39d5ef977819",
   "metadata": {},
   "outputs": [
    {
     "data": {
      "text/plain": [
       "{'a': 1, 'b': 2, 'c': 3, 'd': 'kwargs'}"
      ]
     },
     "execution_count": 45,
     "metadata": {},
     "output_type": "execute_result"
    }
   ],
   "source": [
    "bb(a=1,b=2,c=3,d=\"kwargs\")"
   ]
  },
  {
   "cell_type": "code",
   "execution_count": null,
   "id": "1fdff04c-394e-472a-939d-0d6ae646ecf5",
   "metadata": {},
   "outputs": [],
   "source": []
  },
  {
   "cell_type": "code",
   "execution_count": null,
   "id": "afc3ea95-9945-4380-9cda-2c645e78b7c8",
   "metadata": {},
   "outputs": [],
   "source": [
    "\"\"\"Q3.What is an iterator in python? Name the method used to initialise the iterator object and the method\n",
    "used for iteration. Use these methods to print the first five elements of the given list [2, 4, 6, 8, 10, 12, 14,\n",
    "16, 18, 20].\"\"\""
   ]
  },
  {
   "cell_type": "code",
   "execution_count": null,
   "id": "55cf816a-f128-401a-b18b-1428fe54123c",
   "metadata": {},
   "outputs": [],
   "source": [
    "\"\"\"Iterators are used in Python to represent a stream of data that can be iterated over element by element, \n",
    "without the need to store all the elements in memory at once. This can be useful for working with large data sets or\n",
    "infinite sequences. Examples of iterators in Python include lists, dictionaries, and generators.\n",
    "\n",
    "You can use the iter() function to obtain an iterator from an iterable object, and the next() function to\n",
    "retrieve the next value from an iterator.\"\"\"\n"
   ]
  },
  {
   "cell_type": "code",
   "execution_count": 1,
   "id": "da340145-b747-4281-b8a3-c5351de49448",
   "metadata": {},
   "outputs": [
    {
     "name": "stdout",
     "output_type": "stream",
     "text": [
      "2\n",
      "4\n",
      "6\n",
      "8\n",
      "10\n"
     ]
    }
   ],
   "source": [
    "l=[2, 4, 6, 8, 10, 12, 14,16, 18, 20]\n",
    "def test1():\n",
    "    for i in range(len(l)):\n",
    "        if i==5:\n",
    "            break\n",
    "        yield(l[i])\n",
    "feb=test1()\n",
    "for i in range(5):\n",
    "    print(next(feb))\n",
    "\n",
    "\n"
   ]
  },
  {
   "cell_type": "code",
   "execution_count": null,
   "id": "6d570e58-780a-453d-90a6-4b61cb857dd8",
   "metadata": {},
   "outputs": [],
   "source": [
    "Q4.  What is a generator function in python? Why yield keyword is used? Give an example of a generator \n",
    "    function"
   ]
  },
  {
   "cell_type": "code",
   "execution_count": null,
   "id": "5120db14-db55-4cb5-a8f4-5757d6cfba5e",
   "metadata": {},
   "outputs": [],
   "source": [
    "Genrator is a function in the python.By using genrator function we can genrate the output one by one\n",
    "and output shown according to it.Genrator function not store all data and fetch from stored data.\n",
    "Genrator function genrate data according to command and show output according to it.\n",
    "YIELD=The yield keyword in Python is used in the context of generator functions to produce a sequence\n",
    "    of values that can be iterated over.yield is used to return a generator object.\n"
   ]
  },
  {
   "cell_type": "code",
   "execution_count": 1,
   "id": "6a09103d-b0d5-48b3-baea-06fe6e071836",
   "metadata": {},
   "outputs": [
    {
     "name": "stdout",
     "output_type": "stream",
     "text": [
      "5\n",
      "4\n",
      "3\n",
      "2\n",
      "1\n"
     ]
    }
   ],
   "source": [
    "def series(a):\n",
    "    while a>0:\n",
    "        yield a\n",
    "        a=a-1\n",
    "for i in series(5):\n",
    "    print(i)"
   ]
  },
  {
   "cell_type": "code",
   "execution_count": null,
   "id": "da1722c4-f147-44da-9987-7acd2aea1957",
   "metadata": {},
   "outputs": [],
   "source": [
    "Q5. Create a generator function for prime numbers less than 1000. Use the next() method to print the \n",
    "first 20 prime numbers"
   ]
  },
  {
   "cell_type": "code",
   "execution_count": 2,
   "id": "93c47078-2d50-4423-8f41-c53506138e55",
   "metadata": {},
   "outputs": [
    {
     "name": "stdout",
     "output_type": "stream",
     "text": [
      "2\n",
      "3\n",
      "5\n",
      "7\n",
      "11\n",
      "13\n",
      "17\n",
      "19\n",
      "23\n",
      "29\n",
      "31\n",
      "37\n",
      "41\n",
      "43\n",
      "47\n",
      "53\n",
      "59\n",
      "61\n",
      "67\n",
      "71\n"
     ]
    }
   ],
   "source": [
    "def prime(n):\n",
    "    if n <= 1:\n",
    "        return False\n",
    "    for i in range(2, n):\n",
    "        if n % i == 0:\n",
    "            return False\n",
    "    return True\n",
    "\n",
    "def no():\n",
    "    num = 1\n",
    "    while num < 1000:\n",
    "        if prime(num):\n",
    "            yield num\n",
    "        num =num+ 1\n",
    "\n",
    "# Create a generator object\n",
    "primeno = no()\n",
    "\n",
    "# Print the first 20 prime numbers\n",
    "for i in range(20):\n",
    "    print(next(primeno))\n"
   ]
  },
  {
   "cell_type": "code",
   "execution_count": 11,
   "id": "ff50d8e0-e96e-4dd2-ac33-86cb9df82154",
   "metadata": {},
   "outputs": [
    {
     "name": "stdout",
     "output_type": "stream",
     "text": [
      "0\n",
      "1\n",
      "1\n",
      "2\n",
      "3\n",
      "5\n",
      "8\n",
      "13\n",
      "21\n",
      "34\n"
     ]
    }
   ],
   "source": [
    "#Q6. Write a python program to print the first 10 Fibonacci numbers using a while loop.\n",
    "a,b=0,1\n",
    "n=1\n",
    "c=0\n",
    "while n<=10:\n",
    "    print(a)\n",
    "    c=a+b\n",
    "    a=b\n",
    "    b=c\n",
    "    n=n+1"
   ]
  },
  {
   "cell_type": "code",
   "execution_count": null,
   "id": "8a148915-30c2-486d-aaa9-718001fdec89",
   "metadata": {},
   "outputs": [],
   "source": [
    "Q7.Write a List Comprehension to iterate through the given string: ‘pwskills’.\n",
    "\n",
    "Expected output: ['p', 'w', 's', 'k', 'i', 'l', 'l', 's']"
   ]
  },
  {
   "cell_type": "code",
   "execution_count": 3,
   "id": "54c54dca-a3f0-49c0-b893-0eec565f4876",
   "metadata": {},
   "outputs": [
    {
     "name": "stdout",
     "output_type": "stream",
     "text": [
      "['p', 'w', 's', 'k', 'i', 'l', 'l', 's']\n"
     ]
    }
   ],
   "source": [
    "l=\"pwskills\"\n",
    "ch=[i for i in l]\n",
    "print(ch)"
   ]
  },
  {
   "cell_type": "code",
   "execution_count": null,
   "id": "6362d0f7-e97e-426d-9f88-fe367e172f51",
   "metadata": {},
   "outputs": [],
   "source": [
    "Q8. Write a python program to check whether a given number is Palindrome or not using a while loop."
   ]
  },
  {
   "cell_type": "code",
   "execution_count": 1,
   "id": "60e19b3c-a12f-4df4-8f79-e154bee2c0af",
   "metadata": {},
   "outputs": [
    {
     "name": "stdin",
     "output_type": "stream",
     "text": [
      "enter number 121\n"
     ]
    },
    {
     "name": "stdout",
     "output_type": "stream",
     "text": [
      "121  palindrome\n"
     ]
    }
   ],
   "source": [
    "def test1(n):\n",
    "    return str(n)==str(n)[::-1]\n",
    "no=int(input(\"enter number\"))\n",
    "if test1(no):\n",
    "    print(no,\" palindrome\")\n",
    "else:\n",
    "    print(no,\" not palindrome\")"
   ]
  },
  {
   "cell_type": "code",
   "execution_count": null,
   "id": "1f127878-2af1-4867-9e8d-464e849a3105",
   "metadata": {},
   "outputs": [],
   "source": [
    "Q9. Write a code to print odd numbers from 1 to 100 using list comprehension.\n",
    "\n",
    "Note: Use a list comprehension to create a list from 1 to 100 and use another List comprehension to filter \n",
    "out odd numbers"
   ]
  },
  {
   "cell_type": "code",
   "execution_count": null,
   "id": "0ca7e39a-f2d8-4604-95cb-c848b04369b3",
   "metadata": {},
   "outputs": [],
   "source": []
  },
  {
   "cell_type": "code",
   "execution_count": null,
   "id": "7636706e-e8fd-47e2-bd53-af7a5d3d7d79",
   "metadata": {},
   "outputs": [],
   "source": []
  },
  {
   "cell_type": "code",
   "execution_count": null,
   "id": "8597aee6-def0-41ad-ab5f-4d171385c953",
   "metadata": {},
   "outputs": [],
   "source": []
  }
 ],
 "metadata": {
  "kernelspec": {
   "display_name": "Python 3 (ipykernel)",
   "language": "python",
   "name": "python3"
  },
  "language_info": {
   "codemirror_mode": {
    "name": "ipython",
    "version": 3
   },
   "file_extension": ".py",
   "mimetype": "text/x-python",
   "name": "python",
   "nbconvert_exporter": "python",
   "pygments_lexer": "ipython3",
   "version": "3.10.8"
  }
 },
 "nbformat": 4,
 "nbformat_minor": 5
}
