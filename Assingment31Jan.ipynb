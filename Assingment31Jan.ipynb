{
 "cells": [
  {
   "cell_type": "code",
   "execution_count": 7,
   "id": "17f9ab67-9730-4eed-bcd6-af12afefd397",
   "metadata": {},
   "outputs": [
    {
     "data": {
      "text/plain": [
       "'Q1.write a program to accept percentage from the user and display grades according to the following criteria\\n    Marks           Grade\\n    >90              A\\n    >80 and <=90     B\\n    >=60 and <=80    C\\n    below 60         D                                            '"
      ]
     },
     "execution_count": 7,
     "metadata": {},
     "output_type": "execute_result"
    }
   ],
   "source": [
    "\"\"\"Q1.write a program to accept percentage from the user and display grades according to the following criteria\n",
    "    Marks           Grade\n",
    "    >90              A\n",
    "    >80 and <=90     B\n",
    "    >=60 and <=80    C\n",
    "    below 60         D                                            \"\"\"\n",
    "\n"
   ]
  },
  {
   "cell_type": "code",
   "execution_count": 11,
   "id": "803b4466-45be-48e4-a74a-341c441d6713",
   "metadata": {},
   "outputs": [
    {
     "name": "stdin",
     "output_type": "stream",
     "text": [
      "Enter your Marks 75\n"
     ]
    },
    {
     "name": "stdout",
     "output_type": "stream",
     "text": [
      "You got 'C' Grade\n"
     ]
    }
   ],
   "source": [
    "marks=int(input(\"Enter your Marks\"))\n",
    "if marks >90:\n",
    "    print(\"You got 'A' Grade\")\n",
    "elif marks >80 and marks <=90:\n",
    "    print(\"You got 'B' Grade\")\n",
    "elif marks >=60 and marks <=80:\n",
    "    print(\"You got 'C' Grade\")\n",
    "else:\n",
    "    print(\"You got 'D' Grade\")"
   ]
  },
  {
   "cell_type": "code",
   "execution_count": null,
   "id": "d4e8084e-e9d4-4e92-be51-1e643724eed5",
   "metadata": {},
   "outputs": [],
   "source": [
    "Q2.Write a program to accept the cost price of a bike and display the road tax to be paid according to the following criteria\n",
    "TAX            Cost Price(in Rs)\n",
    "15%              >100000\n",
    "10%              >50000 and <=100000\n",
    "5%               <=50000"
   ]
  },
  {
   "cell_type": "code",
   "execution_count": 12,
   "id": "ad6db110-7f3f-4b11-a8d8-4a1f37ce0588",
   "metadata": {},
   "outputs": [
    {
     "name": "stdin",
     "output_type": "stream",
     "text": [
      "Enter cost of bike 200000\n"
     ]
    },
    {
     "name": "stdout",
     "output_type": "stream",
     "text": [
      "30000.0  to be paid\n"
     ]
    }
   ],
   "source": [
    "cost_Price=float(input(\"Enter cost of bike\"))\n",
    "if cost_Price >100000:\n",
    "    road_tax=cost_Price*0.15\n",
    "elif cost_Price>50000 and cost_Price<=100000:\n",
    "    road_tax=cost_Price*0.10\n",
    "else:\n",
    "    road_tax=cost_Price*0.05\n",
    "print(road_tax,\" to be paid\")"
   ]
  },
  {
   "cell_type": "code",
   "execution_count": null,
   "id": "b15616ca-f1a8-4c75-9b96-7b0257fe1f9d",
   "metadata": {},
   "outputs": [],
   "source": []
  },
  {
   "cell_type": "code",
   "execution_count": null,
   "id": "5913593e-ca3e-4601-9b17-608c7132e526",
   "metadata": {},
   "outputs": [],
   "source": [
    "Q3.Accept any city from the user and display monuments of that city.\n",
    "City                Monuments\n",
    "Delhi                Red Fort\n",
    "Agra                 Taj Mahal\n",
    "Jaipur               Jal Mahal"
   ]
  },
  {
   "cell_type": "code",
   "execution_count": 16,
   "id": "45ccd04a-638f-4f07-af5f-1af56a55347d",
   "metadata": {},
   "outputs": [
    {
     "name": "stdin",
     "output_type": "stream",
     "text": [
      "Enter the name of city Nagpur\n"
     ]
    },
    {
     "name": "stdout",
     "output_type": "stream",
     "text": [
      "Please,Enter name from Delhi,Agra,Jaipur\n"
     ]
    }
   ],
   "source": [
    "city=input(\"Enter the name of city\")\n",
    "if city==\"Delhi\":\n",
    "    print(\"Monument of the Delho city is 'Red Fort'\")\n",
    "elif city==\"Agra\":\n",
    "    print(\"Monument of the Agra city is 'Taj Mahal'\")\n",
    "elif city==\"Jaipur\":\n",
    "    print(\"Monument of the Jaipur city is 'Jal Mahal'\")\n",
    "else:\n",
    "    print(\"Please,Enter name from Delhi,Agra,Jaipur\")"
   ]
  },
  {
   "cell_type": "code",
   "execution_count": null,
   "id": "eeb5a248-cbc9-4c1c-81d2-e5619d6df9ce",
   "metadata": {},
   "outputs": [],
   "source": []
  },
  {
   "cell_type": "code",
   "execution_count": null,
   "id": "3f229824-a07c-4045-9d2c-c82adffe1c53",
   "metadata": {},
   "outputs": [],
   "source": [
    "Q.4Check How many times a given number can be divided by 3 before it is less than or equal to 10"
   ]
  },
  {
   "cell_type": "code",
   "execution_count": null,
   "id": "af2f9845-51d2-46fa-bc59-73811c822cf5",
   "metadata": {},
   "outputs": [],
   "source": [
    "number=int(input(\"Enter Number\"))\n",
    "count=0\n",
    "while number>10:\n",
    "    number=number/3\n",
    "    count+=1\n",
    "print(\"the no can be divided by 3\",count,\"times\")\n"
   ]
  },
  {
   "cell_type": "code",
   "execution_count": null,
   "id": "ab25dfe6-0b5d-478a-9166-a720c90054c3",
   "metadata": {},
   "outputs": [],
   "source": [
    "Q5.Why and whem to use while loop in python give a detailed description with example"
   ]
  },
  {
   "cell_type": "code",
   "execution_count": null,
   "id": "4514e210-b49b-44db-8b06-4c8db3723402",
   "metadata": {},
   "outputs": [],
   "source": [
    "\"\"\"The while loop in Python is used to repeatedly execute a block of code as long as a specified condition is met. \n",
    "The condition is evaluated before each iteration of the loop, and if the condition is True, the loop will continue\n",
    "to execute. If the condition is False, the loop will terminate and control will be passed to the next statement after\n",
    "the loop.\n",
    "\n",
    "Here is a basic example of using a while loop in Python:\"\"\"\n",
    "count = 1\n",
    "\n",
    "while count <= 5:\n",
    "    print(count)\n",
    "    count += 1\n",
    "\n",
    "print(\"Loop finished.\")\n"
   ]
  },
  {
   "cell_type": "code",
   "execution_count": null,
   "id": "c14662d3-e44e-4c45-b805-39c39a34d956",
   "metadata": {},
   "outputs": [],
   "source": []
  },
  {
   "cell_type": "code",
   "execution_count": null,
   "id": "1e206429-8387-40d1-a7e9-12a83fcc5a88",
   "metadata": {},
   "outputs": [],
   "source": [
    "Q7,8=Reverse a 'while' loop to display number from 10 to 1"
   ]
  },
  {
   "cell_type": "code",
   "execution_count": null,
   "id": "f1e4423f-be98-4bde-9d0e-60a49b9703b7",
   "metadata": {},
   "outputs": [],
   "source": []
  },
  {
   "cell_type": "code",
   "execution_count": 3,
   "id": "d97134e4-0f0c-4d36-8426-4297a7a33cde",
   "metadata": {},
   "outputs": [
    {
     "name": "stdout",
     "output_type": "stream",
     "text": [
      "10\n",
      "9\n",
      "8\n",
      "7\n",
      "6\n",
      "5\n",
      "4\n",
      "3\n",
      "2\n",
      "1\n"
     ]
    }
   ],
   "source": [
    "num=10\n",
    "while num>=1:\n",
    "    print(num)\n",
    "    num=num-1"
   ]
  },
  {
   "cell_type": "code",
   "execution_count": null,
   "id": "9d40f736-1867-4a86-b0f6-75c9c690e84b",
   "metadata": {},
   "outputs": [],
   "source": []
  },
  {
   "cell_type": "code",
   "execution_count": null,
   "id": "c5647bb8-dc2c-462b-b2b7-e7ec01a18686",
   "metadata": {},
   "outputs": [],
   "source": []
  }
 ],
 "metadata": {
  "kernelspec": {
   "display_name": "Python 3 (ipykernel)",
   "language": "python",
   "name": "python3"
  },
  "language_info": {
   "codemirror_mode": {
    "name": "ipython",
    "version": 3
   },
   "file_extension": ".py",
   "mimetype": "text/x-python",
   "name": "python",
   "nbconvert_exporter": "python",
   "pygments_lexer": "ipython3",
   "version": "3.10.8"
  }
 },
 "nbformat": 4,
 "nbformat_minor": 5
}
