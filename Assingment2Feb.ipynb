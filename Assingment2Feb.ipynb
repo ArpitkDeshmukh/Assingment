{
 "cells": [
  {
   "cell_type": "code",
   "execution_count": 2,
   "id": "ebcc2823-370a-461f-9056-a11f2a11f3b3",
   "metadata": {},
   "outputs": [],
   "source": [
    "Q1.Explain with an example each to use a for loop and a while loop"
   ]
  },
  {
   "cell_type": "code",
   "execution_count": 4,
   "id": "b1227457-a85b-4151-8742-e6b5d66b7f78",
   "metadata": {},
   "outputs": [
    {
     "name": "stdout",
     "output_type": "stream",
     "text": [
      "1\n",
      "2\n",
      "3\n",
      "4\n",
      "5\n"
     ]
    }
   ],
   "source": [
    "\"\"\"ANS=A for loop is used to iterate over a sequence (such as a list, tuple, or string) or other iterable \n",
    "   object and execute a block of code for each element. Here is an example in Python that prints the first\n",
    "   5 numbers in the sequence:\"\"\"\n",
    "numbers = [1, 2, 3, 4, 5]\n",
    "for num in numbers:\n",
    "    print(num)\n",
    "\n",
    "   "
   ]
  },
  {
   "cell_type": "code",
   "execution_count": 5,
   "id": "9d24fdd6-ef7c-4637-a158-a8b809aede12",
   "metadata": {},
   "outputs": [
    {
     "name": "stdout",
     "output_type": "stream",
     "text": [
      "1\n",
      "2\n",
      "3\n",
      "4\n",
      "5\n"
     ]
    }
   ],
   "source": [
    "\"\"\"A while loop is used to repeatedly execute a block of code as long as a certain condition is met.\n",
    "   Here is an example in Python that prints the first 5 numbers starting from 1:\"\"\"\n",
    "count = 1\n",
    "while count <= 5:\n",
    "    print(count)\n",
    "    count += 1\n",
    "\n"
   ]
  },
  {
   "cell_type": "code",
   "execution_count": 6,
   "id": "ccd7e43d-717d-4c97-9e39-e614cd83d603",
   "metadata": {},
   "outputs": [],
   "source": [
    "#Q2.Write a program to print the sum and product of the first 10 natural numbers using for and while loop "
   ]
  },
  {
   "cell_type": "code",
   "execution_count": 9,
   "id": "6e4bbbdc-fc7b-4a90-92e3-271ca8350f6c",
   "metadata": {},
   "outputs": [
    {
     "data": {
      "text/plain": [
       "55"
      ]
     },
     "execution_count": 9,
     "metadata": {},
     "output_type": "execute_result"
    }
   ],
   "source": [
    "#For Loop sum program\n",
    "l=[1,2,3,4,5,6,7,8,9,10]\n",
    "result=0\n",
    "for i in l:\n",
    "    result=result+i\n",
    "result"
   ]
  },
  {
   "cell_type": "code",
   "execution_count": 16,
   "id": "dc74d8fb-878d-4498-ab51-0f91b0e056bb",
   "metadata": {},
   "outputs": [
    {
     "data": {
      "text/plain": [
       "3628800"
      ]
     },
     "execution_count": 16,
     "metadata": {},
     "output_type": "execute_result"
    }
   ],
   "source": [
    "#For Loop product Program\n",
    "product=1\n",
    "for i in l:\n",
    "    product=product*i\n",
    "product"
   ]
  },
  {
   "cell_type": "code",
   "execution_count": null,
   "id": "e2caca0d-5e4e-4894-a4c4-ed713e7839d3",
   "metadata": {},
   "outputs": [],
   "source": [
    "#While Loop sum and product Program\n",
    "sum = 0\n",
    "product = 1\n",
    "count = 1\n",
    "\n",
    "while count <= 10:\n",
    "    sum += count\n",
    "    product *= count\n",
    "    count += 1\n",
    "\n",
    "print(\"Sum of first 10 natural numbers:\", sum)\n",
    "print(\"Product of first 10 natural numbers:\", product)\n"
   ]
  },
  {
   "cell_type": "code",
   "execution_count": null,
   "id": "ff9e42c1-cb71-47a4-8a76-1997433bd257",
   "metadata": {},
   "outputs": [],
   "source": []
  },
  {
   "cell_type": "code",
   "execution_count": null,
   "id": "101cce04-37e8-42c3-809d-a8311271bb8f",
   "metadata": {},
   "outputs": [],
   "source": [
    "\"\"\"Q3.Create a python program program to compute the electricity bill for household.\n",
    "The per-unit charges in rupees are as follows: For the first 100 units, the user will be charged Rs. 4.5 per \n",
    "unit, for the next 100 units, the user will be charged Rs. 6 per unit, and for the next 100 units, the user will \n",
    "be charged Rs. 10 per unit, After 300 units and above the user will be charged Rs. 20 per unit.\n",
    "\n",
    "\n",
    "You are required to take the units of electricity consumed in a month from the user as input.\n",
    "\n",
    "\n",
    "Your program must pass this test case: when the unit of electricity consumed by the user in a month is \n",
    "310, the total electricity bill should be 2250\"\"\""
   ]
  },
  {
   "cell_type": "code",
   "execution_count": 1,
   "id": "e064076f-e223-4464-8a2e-43832150ce20",
   "metadata": {},
   "outputs": [
    {
     "name": "stdin",
     "output_type": "stream",
     "text": [
      "Enter the number of units consumed:  310\n"
     ]
    },
    {
     "name": "stdout",
     "output_type": "stream",
     "text": [
      "The total electricity bill is: 2250.0\n"
     ]
    }
   ],
   "source": [
    "units = int(input(\"Enter the number of units consumed: \"))\n",
    "\n",
    "if units <= 100:\n",
    "    bill = units * 4.5\n",
    "elif units <= 200:\n",
    "    bill = 100 * 4.5 + (units - 100) * 6\n",
    "elif units <= 300:\n",
    "    bill = 100 * 4.5 + 100 * 6 + (units - 200) * 10\n",
    "else:\n",
    "    bill = 100 * 4.5 + 100 * 6 + 100 * 10 + (units - 300) * 20\n",
    "\n",
    "print(\"The total electricity bill is:\", bill)\n"
   ]
  },
  {
   "cell_type": "code",
   "execution_count": null,
   "id": "73cabbee-684c-42f9-b11b-69b3b6ae6a43",
   "metadata": {},
   "outputs": [],
   "source": []
  },
  {
   "cell_type": "code",
   "execution_count": null,
   "id": "11dc3a8c-194b-44ef-ab4d-54d3bb94551a",
   "metadata": {},
   "outputs": [],
   "source": [
    "Q4. Create a list of numbers from 1 to 100. Use for loop and while loop to calculate the cube of each \n",
    "number and if the cube of that number is divisible by 4 or 5 then append that number in a list and print \n",
    "that list."
   ]
  },
  {
   "cell_type": "code",
   "execution_count": 1,
   "id": "dbd9739d-fc4d-4ac1-81a6-77621938c394",
   "metadata": {},
   "outputs": [
    {
     "name": "stdout",
     "output_type": "stream",
     "text": [
      "Result of list divisible by 4 and 5 is [2, 4, 5, 6, 8, 10, 12, 14, 15, 16, 18, 20, 22, 24, 25, 26, 28, 30, 32, 34, 35, 36, 38, 40, 42, 44, 45, 46, 48, 50, 52, 54, 55, 56, 58, 60, 62, 64, 65, 66, 68, 70, 72, 74, 75, 76, 78, 80, 82, 84, 85, 86, 88, 90, 92, 94, 95, 96, 98, 100]\n"
     ]
    }
   ],
   "source": [
    "number=list(range(1,101))\n",
    "list_divisibleBY4_5=[]\n",
    "for i in number:\n",
    "    cube=i**3\n",
    "    if cube%4==0 or cube%5==0:\n",
    "        list_divisibleBY4_5.append(i)\n",
    "print(\"Result of list divisible by 4 and 5 is\",list_divisibleBY4_5)"
   ]
  },
  {
   "cell_type": "code",
   "execution_count": 3,
   "id": "3882e16d-cca8-4550-ac86-fdc510b88fb1",
   "metadata": {},
   "outputs": [
    {
     "name": "stdout",
     "output_type": "stream",
     "text": [
      "While loop result:  [2, 4, 5, 6, 8, 10, 12, 14, 15, 16, 18, 20, 22, 24, 25, 26, 28, 30, 32, 34, 35, 36, 38, 40, 42, 44, 45, 46, 48, 50, 52, 54, 55, 56, 58, 60, 62, 64, 65, 66, 68, 70, 72, 74, 75, 76, 78, 80, 82, 84, 85, 86, 88, 90, 92, 94, 95, 96, 98, 100]\n"
     ]
    }
   ],
   "source": [
    "numbers=list(range(1,101))\n",
    "i = 0\n",
    "cubes_divisible_by_4_or_5 = []\n",
    "\n",
    "while i < len(numbers):\n",
    "    cube = numbers[i]**3\n",
    "    if cube % 4 == 0 or cube % 5 == 0:\n",
    "        cubes_divisible_by_4_or_5.append(numbers[i])\n",
    "    i += 1\n",
    "\n",
    "print(\"While loop result: \", cubes_divisible_by_4_or_5)\n"
   ]
  },
  {
   "cell_type": "code",
   "execution_count": null,
   "id": "7821640b-7d6f-471a-95c1-7a99cf034387",
   "metadata": {},
   "outputs": [],
   "source": []
  },
  {
   "cell_type": "code",
   "execution_count": null,
   "id": "dc46d72e-1aac-41c4-87b1-f5673efd9c88",
   "metadata": {},
   "outputs": [],
   "source": [
    "Q5.  Write a program to filter count vowels in the below-given string.\n",
    "\n",
    "string = \"I want to become a data scientist"
   ]
  },
  {
   "cell_type": "code",
   "execution_count": null,
   "id": "42e05ade-6e38-403f-b8f0-bb03750a10db",
   "metadata": {},
   "outputs": [],
   "source": [
    "string = \"I want to become a data scientist\"\n"
   ]
  },
  {
   "cell_type": "code",
   "execution_count": null,
   "id": "66e8d837-b9fa-4929-80f1-5a3f42267170",
   "metadata": {},
   "outputs": [],
   "source": []
  }
 ],
 "metadata": {
  "kernelspec": {
   "display_name": "Python 3 (ipykernel)",
   "language": "python",
   "name": "python3"
  },
  "language_info": {
   "codemirror_mode": {
    "name": "ipython",
    "version": 3
   },
   "file_extension": ".py",
   "mimetype": "text/x-python",
   "name": "python",
   "nbconvert_exporter": "python",
   "pygments_lexer": "ipython3",
   "version": "3.10.8"
  }
 },
 "nbformat": 4,
 "nbformat_minor": 5
}
